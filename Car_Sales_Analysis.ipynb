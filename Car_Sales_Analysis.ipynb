{
 "cells": [
  {
   "cell_type": "markdown",
   "id": "36f5c59d-e25d-4b9a-a772-47e1414a7c20",
   "metadata": {},
   "source": [
    "## Introduction"
   ]
  },
  {
   "cell_type": "markdown",
   "id": "f6d7bc02-cd16-46b5-aa66-91b5121a902f",
   "metadata": {},
   "source": [
    "The \"Car Sales Data\" dataset is a comprehensive collection of information on car sales from a car dealership over the course of a year. This dataset consists of 2.5 million rows and nine columns of data for each car sale. The dataset provides detailed information such as the date of the sale, the name of the salesperson, the customer name, the make and model of the car, the year of the car, the sale price of the car in USD, the commission rate paid to the salesperson on the sale, and the amount of commission earned by the salesperson on the sale.\n",
    "\n",
    "The dataset is a useful resource for analyzing car sales trends over time, evaluating the performance of individual salespeople in the dealership, and predicting sales performance. It can also be used to explore the impact of different factors on car sales, such as car make, model, year, and salesperson performance. This dataset is an excellent resource for anyone interested in the car sales industry or conducting data analysis on sales data."
   ]
  },
  {
   "cell_type": "markdown",
   "id": "20c1bbd5-25a4-4bcf-baf9-c52f1cc88452",
   "metadata": {},
   "source": [
    "## Importing Libraries"
   ]
  },
  {
   "cell_type": "code",
   "execution_count": 1,
   "id": "ca957b51-5127-47c6-8dac-c55ab1f9c984",
   "metadata": {},
   "outputs": [],
   "source": [
    "# Import libraries\n",
    "\n",
    "import numpy as np\n",
    "import pandas as pd\n",
    "import matplotlib.pyplot as plt\n",
    "import seaborn as sns"
   ]
  },
  {
   "cell_type": "markdown",
   "id": "a97c2b3a-12ae-4179-bb20-41f7c5d3ce03",
   "metadata": {},
   "source": [
    "## Data Exploration"
   ]
  },
  {
   "cell_type": "code",
   "execution_count": 7,
   "id": "da2a3c61-ffcf-47db-a881-51899982303b",
   "metadata": {},
   "outputs": [
    {
     "data": {
      "text/html": [
       "<div>\n",
       "<style scoped>\n",
       "    .dataframe tbody tr th:only-of-type {\n",
       "        vertical-align: middle;\n",
       "    }\n",
       "\n",
       "    .dataframe tbody tr th {\n",
       "        vertical-align: top;\n",
       "    }\n",
       "\n",
       "    .dataframe thead th {\n",
       "        text-align: right;\n",
       "    }\n",
       "</style>\n",
       "<table border=\"1\" class=\"dataframe\">\n",
       "  <thead>\n",
       "    <tr style=\"text-align: right;\">\n",
       "      <th></th>\n",
       "      <th>Date</th>\n",
       "      <th>Salesperson</th>\n",
       "      <th>Customer Name</th>\n",
       "      <th>Car Make</th>\n",
       "      <th>Car Model</th>\n",
       "      <th>Car Year</th>\n",
       "      <th>Sale Price</th>\n",
       "      <th>Commission Rate</th>\n",
       "      <th>Commission Earned</th>\n",
       "    </tr>\n",
       "  </thead>\n",
       "  <tbody>\n",
       "    <tr>\n",
       "      <th>0</th>\n",
       "      <td>01-08-2022</td>\n",
       "      <td>Monica Moore MD</td>\n",
       "      <td>Mary Butler</td>\n",
       "      <td>Nissan</td>\n",
       "      <td>Altima</td>\n",
       "      <td>2018</td>\n",
       "      <td>15983</td>\n",
       "      <td>0.070495</td>\n",
       "      <td>1126.73</td>\n",
       "    </tr>\n",
       "    <tr>\n",
       "      <th>1</th>\n",
       "      <td>15-03-2023</td>\n",
       "      <td>Roberto Rose</td>\n",
       "      <td>Richard Pierce</td>\n",
       "      <td>Nissan</td>\n",
       "      <td>F-150</td>\n",
       "      <td>2016</td>\n",
       "      <td>38474</td>\n",
       "      <td>0.134439</td>\n",
       "      <td>5172.40</td>\n",
       "    </tr>\n",
       "    <tr>\n",
       "      <th>2</th>\n",
       "      <td>29-04-2023</td>\n",
       "      <td>Ashley Ramos</td>\n",
       "      <td>Sandra Moore</td>\n",
       "      <td>Ford</td>\n",
       "      <td>Civic</td>\n",
       "      <td>2016</td>\n",
       "      <td>33340</td>\n",
       "      <td>0.114536</td>\n",
       "      <td>3818.63</td>\n",
       "    </tr>\n",
       "    <tr>\n",
       "      <th>3</th>\n",
       "      <td>04-09-2022</td>\n",
       "      <td>Patrick Harris</td>\n",
       "      <td>Johnny Scott</td>\n",
       "      <td>Ford</td>\n",
       "      <td>Altima</td>\n",
       "      <td>2013</td>\n",
       "      <td>41937</td>\n",
       "      <td>0.092191</td>\n",
       "      <td>3866.20</td>\n",
       "    </tr>\n",
       "    <tr>\n",
       "      <th>4</th>\n",
       "      <td>16-06-2022</td>\n",
       "      <td>Eric Lopez</td>\n",
       "      <td>Vanessa Jones</td>\n",
       "      <td>Honda</td>\n",
       "      <td>Silverado</td>\n",
       "      <td>2022</td>\n",
       "      <td>20256</td>\n",
       "      <td>0.113490</td>\n",
       "      <td>2298.85</td>\n",
       "    </tr>\n",
       "    <tr>\n",
       "      <th>...</th>\n",
       "      <td>...</td>\n",
       "      <td>...</td>\n",
       "      <td>...</td>\n",
       "      <td>...</td>\n",
       "      <td>...</td>\n",
       "      <td>...</td>\n",
       "      <td>...</td>\n",
       "      <td>...</td>\n",
       "      <td>...</td>\n",
       "    </tr>\n",
       "    <tr>\n",
       "      <th>1048570</th>\n",
       "      <td>22-03-2023</td>\n",
       "      <td>Jean Stevenson MD</td>\n",
       "      <td>Jeffrey Hernandez</td>\n",
       "      <td>Ford</td>\n",
       "      <td>Silverado</td>\n",
       "      <td>2015</td>\n",
       "      <td>41043</td>\n",
       "      <td>0.107835</td>\n",
       "      <td>4425.89</td>\n",
       "    </tr>\n",
       "    <tr>\n",
       "      <th>1048571</th>\n",
       "      <td>12-02-2023</td>\n",
       "      <td>Daniel Odonnell</td>\n",
       "      <td>Amy Flores</td>\n",
       "      <td>Ford</td>\n",
       "      <td>Civic</td>\n",
       "      <td>2010</td>\n",
       "      <td>23958</td>\n",
       "      <td>0.067569</td>\n",
       "      <td>1618.81</td>\n",
       "    </tr>\n",
       "    <tr>\n",
       "      <th>1048572</th>\n",
       "      <td>17-10-2022</td>\n",
       "      <td>Paul Foster</td>\n",
       "      <td>Lucas Frank</td>\n",
       "      <td>Ford</td>\n",
       "      <td>Corolla</td>\n",
       "      <td>2021</td>\n",
       "      <td>43768</td>\n",
       "      <td>0.138509</td>\n",
       "      <td>6062.26</td>\n",
       "    </tr>\n",
       "    <tr>\n",
       "      <th>1048573</th>\n",
       "      <td>21-12-2022</td>\n",
       "      <td>Brett Hansen</td>\n",
       "      <td>Natasha Payne</td>\n",
       "      <td>Nissan</td>\n",
       "      <td>Altima</td>\n",
       "      <td>2010</td>\n",
       "      <td>33733</td>\n",
       "      <td>0.136388</td>\n",
       "      <td>4600.77</td>\n",
       "    </tr>\n",
       "    <tr>\n",
       "      <th>1048574</th>\n",
       "      <td>19-02-2023</td>\n",
       "      <td>Benjamin Lawson</td>\n",
       "      <td>Daniel Hayes</td>\n",
       "      <td>Chevrolet</td>\n",
       "      <td>F-150</td>\n",
       "      <td>2019</td>\n",
       "      <td>19352</td>\n",
       "      <td>0.126393</td>\n",
       "      <td>2445.96</td>\n",
       "    </tr>\n",
       "  </tbody>\n",
       "</table>\n",
       "<p>1048575 rows × 9 columns</p>\n",
       "</div>"
      ],
      "text/plain": [
       "               Date        Salesperson      Customer Name   Car Make  \\\n",
       "0        01-08-2022    Monica Moore MD        Mary Butler     Nissan   \n",
       "1        15-03-2023       Roberto Rose     Richard Pierce     Nissan   \n",
       "2        29-04-2023       Ashley Ramos       Sandra Moore       Ford   \n",
       "3        04-09-2022     Patrick Harris       Johnny Scott       Ford   \n",
       "4        16-06-2022         Eric Lopez      Vanessa Jones      Honda   \n",
       "...             ...                ...                ...        ...   \n",
       "1048570  22-03-2023  Jean Stevenson MD  Jeffrey Hernandez       Ford   \n",
       "1048571  12-02-2023    Daniel Odonnell         Amy Flores       Ford   \n",
       "1048572  17-10-2022        Paul Foster        Lucas Frank       Ford   \n",
       "1048573  21-12-2022       Brett Hansen      Natasha Payne     Nissan   \n",
       "1048574  19-02-2023    Benjamin Lawson       Daniel Hayes  Chevrolet   \n",
       "\n",
       "         Car Model  Car Year  Sale Price  Commission Rate  Commission Earned  \n",
       "0           Altima      2018       15983         0.070495            1126.73  \n",
       "1            F-150      2016       38474         0.134439            5172.40  \n",
       "2            Civic      2016       33340         0.114536            3818.63  \n",
       "3           Altima      2013       41937         0.092191            3866.20  \n",
       "4        Silverado      2022       20256         0.113490            2298.85  \n",
       "...            ...       ...         ...              ...                ...  \n",
       "1048570  Silverado      2015       41043         0.107835            4425.89  \n",
       "1048571      Civic      2010       23958         0.067569            1618.81  \n",
       "1048572    Corolla      2021       43768         0.138509            6062.26  \n",
       "1048573     Altima      2010       33733         0.136388            4600.77  \n",
       "1048574      F-150      2019       19352         0.126393            2445.96  \n",
       "\n",
       "[1048575 rows x 9 columns]"
      ]
     },
     "execution_count": 7,
     "metadata": {},
     "output_type": "execute_result"
    }
   ],
   "source": [
    "# Read in the dataset\n",
    "\n",
    "df = pd.read_csv(\"D:\\\\Python Aman Das\\\\Car Sales Analysis Project\\\\car_sales_data.csv\")\n",
    "df"
   ]
  },
  {
   "cell_type": "code",
   "execution_count": 16,
   "id": "701dd157-c165-407c-986a-52798802ce07",
   "metadata": {},
   "outputs": [
    {
     "data": {
      "text/plain": [
       "Index(['Date', 'Salesperson', 'Customer Name', 'Car Make', 'Car Model',\n",
       "       'Car Year', 'Sale Price', 'Commission Rate', 'Commission Earned'],\n",
       "      dtype='object')"
      ]
     },
     "execution_count": 16,
     "metadata": {},
     "output_type": "execute_result"
    }
   ],
   "source": [
    "df.columns"
   ]
  },
  {
   "cell_type": "markdown",
   "id": "91eccca2-c4b7-4e56-b121-1133e52b8233",
   "metadata": {},
   "source": [
    "Columns Explanation:\n",
    "\n",
    "* Date: The date of the car sale\n",
    "* Salesperson: The name of the salesperson who made the sale\n",
    "* Customer Name: The name of the customer who purchased the car\n",
    "* Car Make: The make of the car that was purchased\n",
    "* Car Model: The model of the car that was purchased\n",
    "* Car Year: The year of the car that was purchased\n",
    "* Sale Price: The sale price of the car in USD\n",
    "* Commission Rate: The commission rate paid to the salesperson on the sale\n",
    "* Commission Earned: The amount of commission earned by the salesperson on the sale"
   ]
  },
  {
   "cell_type": "code",
   "execution_count": 18,
   "id": "602f0013-de51-4ed4-90e7-dd9f2b00e695",
   "metadata": {},
   "outputs": [
    {
     "name": "stdout",
     "output_type": "stream",
     "text": [
      "<class 'pandas.core.frame.DataFrame'>\n",
      "RangeIndex: 1048575 entries, 0 to 1048574\n",
      "Data columns (total 9 columns):\n",
      " #   Column             Non-Null Count    Dtype  \n",
      "---  ------             --------------    -----  \n",
      " 0   Date               1048575 non-null  object \n",
      " 1   Salesperson        1048575 non-null  object \n",
      " 2   Customer Name      1048575 non-null  object \n",
      " 3   Car Make           1048575 non-null  object \n",
      " 4   Car Model          1048575 non-null  object \n",
      " 5   Car Year           1048575 non-null  int64  \n",
      " 6   Sale Price         1048575 non-null  int64  \n",
      " 7   Commission Rate    1048575 non-null  float64\n",
      " 8   Commission Earned  1048575 non-null  float64\n",
      "dtypes: float64(2), int64(2), object(5)\n",
      "memory usage: 72.0+ MB\n"
     ]
    }
   ],
   "source": [
    "df.info()"
   ]
  },
  {
   "cell_type": "code",
   "execution_count": 17,
   "id": "12fe88e6-d212-4f69-9122-41c5d4f0d920",
   "metadata": {},
   "outputs": [
    {
     "data": {
      "text/html": [
       "<div>\n",
       "<style scoped>\n",
       "    .dataframe tbody tr th:only-of-type {\n",
       "        vertical-align: middle;\n",
       "    }\n",
       "\n",
       "    .dataframe tbody tr th {\n",
       "        vertical-align: top;\n",
       "    }\n",
       "\n",
       "    .dataframe thead th {\n",
       "        text-align: right;\n",
       "    }\n",
       "</style>\n",
       "<table border=\"1\" class=\"dataframe\">\n",
       "  <thead>\n",
       "    <tr style=\"text-align: right;\">\n",
       "      <th></th>\n",
       "      <th>Date</th>\n",
       "      <th>Salesperson</th>\n",
       "      <th>Customer Name</th>\n",
       "      <th>Car Make</th>\n",
       "      <th>Car Model</th>\n",
       "      <th>Car Year</th>\n",
       "      <th>Sale Price</th>\n",
       "      <th>Commission Rate</th>\n",
       "      <th>Commission Earned</th>\n",
       "    </tr>\n",
       "  </thead>\n",
       "  <tbody>\n",
       "    <tr>\n",
       "      <th>0</th>\n",
       "      <td>01-08-2022</td>\n",
       "      <td>Monica Moore MD</td>\n",
       "      <td>Mary Butler</td>\n",
       "      <td>Nissan</td>\n",
       "      <td>Altima</td>\n",
       "      <td>2018</td>\n",
       "      <td>15983</td>\n",
       "      <td>0.070495</td>\n",
       "      <td>1126.73</td>\n",
       "    </tr>\n",
       "    <tr>\n",
       "      <th>1</th>\n",
       "      <td>15-03-2023</td>\n",
       "      <td>Roberto Rose</td>\n",
       "      <td>Richard Pierce</td>\n",
       "      <td>Nissan</td>\n",
       "      <td>F-150</td>\n",
       "      <td>2016</td>\n",
       "      <td>38474</td>\n",
       "      <td>0.134439</td>\n",
       "      <td>5172.40</td>\n",
       "    </tr>\n",
       "    <tr>\n",
       "      <th>2</th>\n",
       "      <td>29-04-2023</td>\n",
       "      <td>Ashley Ramos</td>\n",
       "      <td>Sandra Moore</td>\n",
       "      <td>Ford</td>\n",
       "      <td>Civic</td>\n",
       "      <td>2016</td>\n",
       "      <td>33340</td>\n",
       "      <td>0.114536</td>\n",
       "      <td>3818.63</td>\n",
       "    </tr>\n",
       "    <tr>\n",
       "      <th>3</th>\n",
       "      <td>04-09-2022</td>\n",
       "      <td>Patrick Harris</td>\n",
       "      <td>Johnny Scott</td>\n",
       "      <td>Ford</td>\n",
       "      <td>Altima</td>\n",
       "      <td>2013</td>\n",
       "      <td>41937</td>\n",
       "      <td>0.092191</td>\n",
       "      <td>3866.20</td>\n",
       "    </tr>\n",
       "    <tr>\n",
       "      <th>4</th>\n",
       "      <td>16-06-2022</td>\n",
       "      <td>Eric Lopez</td>\n",
       "      <td>Vanessa Jones</td>\n",
       "      <td>Honda</td>\n",
       "      <td>Silverado</td>\n",
       "      <td>2022</td>\n",
       "      <td>20256</td>\n",
       "      <td>0.113490</td>\n",
       "      <td>2298.85</td>\n",
       "    </tr>\n",
       "  </tbody>\n",
       "</table>\n",
       "</div>"
      ],
      "text/plain": [
       "         Date      Salesperson   Customer Name Car Make  Car Model  Car Year  \\\n",
       "0  01-08-2022  Monica Moore MD     Mary Butler   Nissan     Altima      2018   \n",
       "1  15-03-2023     Roberto Rose  Richard Pierce   Nissan      F-150      2016   \n",
       "2  29-04-2023     Ashley Ramos    Sandra Moore     Ford      Civic      2016   \n",
       "3  04-09-2022   Patrick Harris    Johnny Scott     Ford     Altima      2013   \n",
       "4  16-06-2022       Eric Lopez   Vanessa Jones    Honda  Silverado      2022   \n",
       "\n",
       "   Sale Price  Commission Rate  Commission Earned  \n",
       "0       15983         0.070495            1126.73  \n",
       "1       38474         0.134439            5172.40  \n",
       "2       33340         0.114536            3818.63  \n",
       "3       41937         0.092191            3866.20  \n",
       "4       20256         0.113490            2298.85  "
      ]
     },
     "execution_count": 17,
     "metadata": {},
     "output_type": "execute_result"
    }
   ],
   "source": [
    "df.head()"
   ]
  },
  {
   "cell_type": "code",
   "execution_count": 19,
   "id": "a39739e1-1c7d-4f67-b01f-14fb05037611",
   "metadata": {},
   "outputs": [
    {
     "data": {
      "text/html": [
       "<div>\n",
       "<style scoped>\n",
       "    .dataframe tbody tr th:only-of-type {\n",
       "        vertical-align: middle;\n",
       "    }\n",
       "\n",
       "    .dataframe tbody tr th {\n",
       "        vertical-align: top;\n",
       "    }\n",
       "\n",
       "    .dataframe thead th {\n",
       "        text-align: right;\n",
       "    }\n",
       "</style>\n",
       "<table border=\"1\" class=\"dataframe\">\n",
       "  <thead>\n",
       "    <tr style=\"text-align: right;\">\n",
       "      <th></th>\n",
       "      <th>Date</th>\n",
       "      <th>Salesperson</th>\n",
       "      <th>Customer Name</th>\n",
       "      <th>Car Make</th>\n",
       "      <th>Car Model</th>\n",
       "      <th>Car Year</th>\n",
       "      <th>Sale Price</th>\n",
       "      <th>Commission Rate</th>\n",
       "      <th>Commission Earned</th>\n",
       "    </tr>\n",
       "  </thead>\n",
       "  <tbody>\n",
       "    <tr>\n",
       "      <th>1048570</th>\n",
       "      <td>22-03-2023</td>\n",
       "      <td>Jean Stevenson MD</td>\n",
       "      <td>Jeffrey Hernandez</td>\n",
       "      <td>Ford</td>\n",
       "      <td>Silverado</td>\n",
       "      <td>2015</td>\n",
       "      <td>41043</td>\n",
       "      <td>0.107835</td>\n",
       "      <td>4425.89</td>\n",
       "    </tr>\n",
       "    <tr>\n",
       "      <th>1048571</th>\n",
       "      <td>12-02-2023</td>\n",
       "      <td>Daniel Odonnell</td>\n",
       "      <td>Amy Flores</td>\n",
       "      <td>Ford</td>\n",
       "      <td>Civic</td>\n",
       "      <td>2010</td>\n",
       "      <td>23958</td>\n",
       "      <td>0.067569</td>\n",
       "      <td>1618.81</td>\n",
       "    </tr>\n",
       "    <tr>\n",
       "      <th>1048572</th>\n",
       "      <td>17-10-2022</td>\n",
       "      <td>Paul Foster</td>\n",
       "      <td>Lucas Frank</td>\n",
       "      <td>Ford</td>\n",
       "      <td>Corolla</td>\n",
       "      <td>2021</td>\n",
       "      <td>43768</td>\n",
       "      <td>0.138509</td>\n",
       "      <td>6062.26</td>\n",
       "    </tr>\n",
       "    <tr>\n",
       "      <th>1048573</th>\n",
       "      <td>21-12-2022</td>\n",
       "      <td>Brett Hansen</td>\n",
       "      <td>Natasha Payne</td>\n",
       "      <td>Nissan</td>\n",
       "      <td>Altima</td>\n",
       "      <td>2010</td>\n",
       "      <td>33733</td>\n",
       "      <td>0.136388</td>\n",
       "      <td>4600.77</td>\n",
       "    </tr>\n",
       "    <tr>\n",
       "      <th>1048574</th>\n",
       "      <td>19-02-2023</td>\n",
       "      <td>Benjamin Lawson</td>\n",
       "      <td>Daniel Hayes</td>\n",
       "      <td>Chevrolet</td>\n",
       "      <td>F-150</td>\n",
       "      <td>2019</td>\n",
       "      <td>19352</td>\n",
       "      <td>0.126393</td>\n",
       "      <td>2445.96</td>\n",
       "    </tr>\n",
       "  </tbody>\n",
       "</table>\n",
       "</div>"
      ],
      "text/plain": [
       "               Date        Salesperson      Customer Name   Car Make  \\\n",
       "1048570  22-03-2023  Jean Stevenson MD  Jeffrey Hernandez       Ford   \n",
       "1048571  12-02-2023    Daniel Odonnell         Amy Flores       Ford   \n",
       "1048572  17-10-2022        Paul Foster        Lucas Frank       Ford   \n",
       "1048573  21-12-2022       Brett Hansen      Natasha Payne     Nissan   \n",
       "1048574  19-02-2023    Benjamin Lawson       Daniel Hayes  Chevrolet   \n",
       "\n",
       "         Car Model  Car Year  Sale Price  Commission Rate  Commission Earned  \n",
       "1048570  Silverado      2015       41043         0.107835            4425.89  \n",
       "1048571      Civic      2010       23958         0.067569            1618.81  \n",
       "1048572    Corolla      2021       43768         0.138509            6062.26  \n",
       "1048573     Altima      2010       33733         0.136388            4600.77  \n",
       "1048574      F-150      2019       19352         0.126393            2445.96  "
      ]
     },
     "execution_count": 19,
     "metadata": {},
     "output_type": "execute_result"
    }
   ],
   "source": [
    "df.tail()"
   ]
  },
  {
   "cell_type": "code",
   "execution_count": 21,
   "id": "9153884a-17da-47da-9749-ca1315f1f508",
   "metadata": {},
   "outputs": [
    {
     "name": "stdout",
     "output_type": "stream",
     "text": [
      "Dataset size: (1048575, 9)\n"
     ]
    }
   ],
   "source": [
    "# Check the size of the dataset\n",
    "\n",
    "print('Dataset size:', df.shape)"
   ]
  },
  {
   "cell_type": "code",
   "execution_count": 22,
   "id": "bfa5e8b6-38b4-43cc-9548-c7c39055f024",
   "metadata": {},
   "outputs": [
    {
     "data": {
      "text/plain": [
       "Date                 0\n",
       "Salesperson          0\n",
       "Customer Name        0\n",
       "Car Make             0\n",
       "Car Model            0\n",
       "Car Year             0\n",
       "Sale Price           0\n",
       "Commission Rate      0\n",
       "Commission Earned    0\n",
       "dtype: int64"
      ]
     },
     "execution_count": 22,
     "metadata": {},
     "output_type": "execute_result"
    }
   ],
   "source": [
    "# Check for null values\n",
    "\n",
    "pd.isnull(df).sum()"
   ]
  },
  {
   "cell_type": "markdown",
   "id": "a45a9911-a84d-4d6a-bd65-89981fc1da6c",
   "metadata": {},
   "source": [
    "No missing values"
   ]
  },
  {
   "cell_type": "markdown",
   "id": "a7bff205-a1c3-43cc-82d2-6fd740347a38",
   "metadata": {},
   "source": [
    "## EDA"
   ]
  },
  {
   "cell_type": "code",
   "execution_count": 23,
   "id": "fd23c62d-8f02-4498-9175-d986044328f9",
   "metadata": {},
   "outputs": [
    {
     "data": {
      "text/html": [
       "<div>\n",
       "<style scoped>\n",
       "    .dataframe tbody tr th:only-of-type {\n",
       "        vertical-align: middle;\n",
       "    }\n",
       "\n",
       "    .dataframe tbody tr th {\n",
       "        vertical-align: top;\n",
       "    }\n",
       "\n",
       "    .dataframe thead th {\n",
       "        text-align: right;\n",
       "    }\n",
       "</style>\n",
       "<table border=\"1\" class=\"dataframe\">\n",
       "  <thead>\n",
       "    <tr style=\"text-align: right;\">\n",
       "      <th></th>\n",
       "      <th>Car Year</th>\n",
       "      <th>Sale Price</th>\n",
       "      <th>Commission Rate</th>\n",
       "      <th>Commission Earned</th>\n",
       "    </tr>\n",
       "  </thead>\n",
       "  <tbody>\n",
       "    <tr>\n",
       "      <th>count</th>\n",
       "      <td>1.048575e+06</td>\n",
       "      <td>1.048575e+06</td>\n",
       "      <td>1.048575e+06</td>\n",
       "      <td>1.048575e+06</td>\n",
       "    </tr>\n",
       "    <tr>\n",
       "      <th>mean</th>\n",
       "      <td>2.015995e+03</td>\n",
       "      <td>3.001837e+04</td>\n",
       "      <td>9.995861e-02</td>\n",
       "      <td>3.000824e+03</td>\n",
       "    </tr>\n",
       "    <tr>\n",
       "      <th>std</th>\n",
       "      <td>3.740360e+00</td>\n",
       "      <td>1.154381e+04</td>\n",
       "      <td>2.886096e-02</td>\n",
       "      <td>1.480912e+03</td>\n",
       "    </tr>\n",
       "    <tr>\n",
       "      <th>min</th>\n",
       "      <td>2.010000e+03</td>\n",
       "      <td>1.000000e+04</td>\n",
       "      <td>5.000014e-02</td>\n",
       "      <td>5.013400e+02</td>\n",
       "    </tr>\n",
       "    <tr>\n",
       "      <th>25%</th>\n",
       "      <td>2.013000e+03</td>\n",
       "      <td>2.003000e+04</td>\n",
       "      <td>7.493990e-02</td>\n",
       "      <td>1.822280e+03</td>\n",
       "    </tr>\n",
       "    <tr>\n",
       "      <th>50%</th>\n",
       "      <td>2.016000e+03</td>\n",
       "      <td>3.000900e+04</td>\n",
       "      <td>9.996744e-02</td>\n",
       "      <td>2.741750e+03</td>\n",
       "    </tr>\n",
       "    <tr>\n",
       "      <th>75%</th>\n",
       "      <td>2.019000e+03</td>\n",
       "      <td>4.003200e+04</td>\n",
       "      <td>1.249475e-01</td>\n",
       "      <td>3.978925e+03</td>\n",
       "    </tr>\n",
       "    <tr>\n",
       "      <th>max</th>\n",
       "      <td>2.022000e+03</td>\n",
       "      <td>5.000000e+04</td>\n",
       "      <td>1.500000e-01</td>\n",
       "      <td>7.494530e+03</td>\n",
       "    </tr>\n",
       "  </tbody>\n",
       "</table>\n",
       "</div>"
      ],
      "text/plain": [
       "           Car Year    Sale Price  Commission Rate  Commission Earned\n",
       "count  1.048575e+06  1.048575e+06     1.048575e+06       1.048575e+06\n",
       "mean   2.015995e+03  3.001837e+04     9.995861e-02       3.000824e+03\n",
       "std    3.740360e+00  1.154381e+04     2.886096e-02       1.480912e+03\n",
       "min    2.010000e+03  1.000000e+04     5.000014e-02       5.013400e+02\n",
       "25%    2.013000e+03  2.003000e+04     7.493990e-02       1.822280e+03\n",
       "50%    2.016000e+03  3.000900e+04     9.996744e-02       2.741750e+03\n",
       "75%    2.019000e+03  4.003200e+04     1.249475e-01       3.978925e+03\n",
       "max    2.022000e+03  5.000000e+04     1.500000e-01       7.494530e+03"
      ]
     },
     "execution_count": 23,
     "metadata": {},
     "output_type": "execute_result"
    }
   ],
   "source": [
    "# describe () method returns description of the data in the DataFrame (i.e. count,mean,std,etc)\n",
    "\n",
    "df.describe()"
   ]
  },
  {
   "cell_type": "markdown",
   "id": "dc508844-4428-4655-b0ba-5521ac83e726",
   "metadata": {},
   "source": [
    "* The car sales data ranges from the year 2010 to 2022, with the mean car year being 2016.\n",
    " \n",
    "* The average sale price for a car is around $30,012, with a standard deviation of \\$11,545, indicating that there is a wide range of sale prices in the dataset.\n",
    "\r",
    "* \n",
    "The commission rate ranges from 0.05 to 0.15, with an average of 0.099, indicating that the dealership pays out an average commission of 9.9% to their sae  speo.\n",
    ".* \r\n",
    "The average commission earned by a salesperson on a car sale is around $3,001, with a standard deviation of $1,481.1."
   ]
  },
  {
   "cell_type": "code",
   "execution_count": 31,
   "id": "8800c2a2-3884-40f6-9727-3ae870833148",
   "metadata": {},
   "outputs": [
    {
     "name": "stdout",
     "output_type": "stream",
     "text": [
      "Unique Car Makes: \n",
      " ['Nissan' 'Ford' 'Honda' 'Toyota' 'Chevrolet']\n",
      "Unique Car Models: \n",
      " ['Altima' 'F-150' 'Civic' 'Silverado' 'Corolla']\n"
     ]
    }
   ],
   "source": [
    "unique_car_makes = df['Car Make'].unique()\n",
    "unique_car_models = df['Car Model'].unique()\n",
    "\n",
    "print(\"Unique Car Makes: \\n\",unique_car_makes)\n",
    "print(\"Unique Car Models: \\n\", unique_car_models)"
   ]
  },
  {
   "cell_type": "code",
   "execution_count": 6,
   "id": "1c0ef8b7-37c9-440e-821f-10d2792c2434",
   "metadata": {},
   "outputs": [
    {
     "name": "stdout",
     "output_type": "stream",
     "text": [
      "Car Model\n",
      "Silverado    20.051689\n",
      "Civic        20.019360\n",
      "F-150        19.993134\n",
      "Corolla      19.972057\n",
      "Altima       19.963760\n",
      "Name: proportion, dtype: float64\n",
      "Car Make\n",
      "Honda        20.036812\n",
      "Ford         20.034237\n",
      "Chevrolet    20.024414\n",
      "Toyota       19.961853\n",
      "Nissan       19.942684\n",
      "Name: proportion, dtype: float64\n"
     ]
    }
   ],
   "source": [
    "car_model_perc = df['Car Model'].value_counts(normalize=True) * 100\n",
    "print(car_model_perc)\n",
    "\n",
    "car_make_perc = df['Car Make'].value_counts(normalize=True) * 100\n",
    "print(car_make_perc)"
   ]
  },
  {
   "cell_type": "code",
   "execution_count": 7,
   "id": "75cff2b5-46c2-4701-948f-cbb97808cd54",
   "metadata": {},
   "outputs": [
    {
     "name": "stdout",
     "output_type": "stream",
     "text": [
      "Car Make\n",
      "Honda        210101\n",
      "Ford         210074\n",
      "Chevrolet    209971\n",
      "Toyota       209315\n",
      "Nissan       209114\n",
      "Name: count, dtype: int64\n"
     ]
    }
   ],
   "source": [
    "car_make_counts = df['Car Make'].value_counts()\n",
    "print(car_make_counts)"
   ]
  },
  {
   "cell_type": "code",
   "execution_count": 8,
   "id": "71b5278c-2a90-443a-ac53-6b05c61e460a",
   "metadata": {},
   "outputs": [
    {
     "data": {
      "image/png": "[encoded data removed]",
      "text/plain": [
       "<Figure size 500x500 with 1 Axes>"
      ]
     },
     "metadata": {},
     "output_type": "display_data"
    }
   ],
   "source": [
    "# Get value counts for car makes\n",
    "car_make_counts = df['Car Make'].value_counts()\n",
    "\n",
    "# Create a pie chart\n",
    "fig, ax = plt.subplots(figsize=(5, 5))\n",
    "ax.pie(car_make_counts, labels=car_make_counts.index, autopct='%1.1f%%', startangle=90)\n",
    "ax.axis('equal')\n",
    "ax.set_title('Distribution of Car Makes')\n",
    "\n",
    "plt.show()"
   ]
  },
  {
   "cell_type": "markdown",
   "id": "f28c7172-b5a6-4480-b0a0-0297a2fc83de",
   "metadata": {},
   "source": [
    "The top 5 Car Makes are Honda, Chevrolet, Toyota, Ford, and Nissan with a percentage distribution of 20.03%, 20.02%, 20.01%, 19.99%, and 19.96% respectively.\n",
    "\n"
   ]
  },
  {
   "cell_type": "code",
   "execution_count": 9,
   "id": "d768e6d3-f36a-4772-9e25-37ca6f38d5dd",
   "metadata": {},
   "outputs": [
    {
     "name": "stdout",
     "output_type": "stream",
     "text": [
      "Car Model\n",
      "Silverado    210257\n",
      "Civic        209918\n",
      "F-150        209643\n",
      "Corolla      209422\n",
      "Altima       209335\n",
      "Name: count, dtype: int64\n"
     ]
    }
   ],
   "source": [
    "car_make_counts = df['Car Model'].value_counts()\n",
    "print(car_make_counts)"
   ]
  },
  {
   "cell_type": "code",
   "execution_count": 10,
   "id": "28b4d75a-84f7-4932-81ee-c42fce56626b",
   "metadata": {},
   "outputs": [
    {
     "data": {
      "image/png": "[encoded data removed]",
      "text/plain": [
       "<Figure size 500x500 with 1 Axes>"
      ]
     },
     "metadata": {},
     "output_type": "display_data"
    }
   ],
   "source": [
    "# Get value counts for car makes\n",
    "car_make_counts = df['Car Model'].value_counts()\n",
    "\n",
    "# Create a pie chart\n",
    "fig, ax = plt.subplots(figsize=(5, 5))\n",
    "ax.pie(car_make_counts, labels=car_make_counts.index, autopct='%1.1f%%', startangle=90)\n",
    "ax.axis('equal')\n",
    "ax.set_title('Distribution of Car Models')\n",
    "\n",
    "plt.show()"
   ]
  },
  {
   "cell_type": "markdown",
   "id": "75bab464-ab91-4383-b206-367e0132e805",
   "metadata": {},
   "source": [
    "The top 5 Car Models are Silverado, Civic, Corolla, F-150, and Altima with a percentage distribution of 20.03%, 20.02%, 20.01%, 19.99%, and 19.95% respectively."
   ]
  },
  {
   "cell_type": "markdown",
   "id": "a7ca19af-9fb4-4880-b8a6-89cbe5ff28fb",
   "metadata": {},
   "source": [
    "Top Sales Persons"
   ]
  },
  {
   "cell_type": "code",
   "execution_count": 11,
   "id": "fdd41e9a-6cf5-43ba-aed5-52c3dda1a4d6",
   "metadata": {},
   "outputs": [
    {
     "name": "stdout",
     "output_type": "stream",
     "text": [
      "Salesperson\n",
      "Michael Smith        540\n",
      "Michael Johnson      410\n",
      "James Smith          347\n",
      "David Smith          340\n",
      "Christopher Smith    325\n",
      "Name: count, dtype: int64\n"
     ]
    }
   ],
   "source": [
    "top_salespersons = df['Salesperson'].value_counts().head(5)\n",
    "print(top_salespersons)"
   ]
  },
  {
   "cell_type": "markdown",
   "id": "83fa1825-d736-4997-80a8-449f688d8831",
   "metadata": {},
   "source": []
  },
  {
   "cell_type": "markdown",
   "id": "6bb52a25-66e2-43ee-8c5e-3027a17987da",
   "metadata": {},
   "source": [
    "Most sold car Make"
   ]
  },
  {
   "cell_type": "code",
   "execution_count": 12,
   "id": "85b6ce5a-c4b1-48ea-afa4-48025118a4f0",
   "metadata": {},
   "outputs": [
    {
     "name": "stdout",
     "output_type": "stream",
     "text": [
      "The most sold car make is: Honda\n"
     ]
    }
   ],
   "source": [
    "most_sold_car_make = df['Car Make'].value_counts().idxmax()\n",
    "print(\"The most sold car make is:\", most_sold_car_make)"
   ]
  },
  {
   "cell_type": "markdown",
   "id": "83187ea0-afb8-40ba-b583-2a97e26bd00f",
   "metadata": {},
   "source": [
    "Most sold car Model"
   ]
  },
  {
   "cell_type": "code",
   "execution_count": 13,
   "id": "e5e758c3-8791-4fee-a38d-ecd874fb8bc6",
   "metadata": {},
   "outputs": [
    {
     "name": "stdout",
     "output_type": "stream",
     "text": [
      "The most sold car model is: Silverado\n"
     ]
    }
   ],
   "source": [
    "most_sold_model = df['Car Model'].value_counts().index[0]\n",
    "print(\"The most sold car model is:\", most_sold_model)"
   ]
  },
  {
   "cell_type": "markdown",
   "id": "aabc1ab3-101b-4c30-ba5a-fcb43dd4e405",
   "metadata": {},
   "source": [
    "The most sold car is Honda Silvaredo"
   ]
  },
  {
   "cell_type": "markdown",
   "id": "3a59b1f4-5c0d-4fbe-952a-e5279d2dbfc6",
   "metadata": {},
   "source": [
    "Yearly Sales"
   ]
  },
  {
   "cell_type": "code",
   "execution_count": 14,
   "id": "e7a01303-e2d0-4681-84d5-da64ff559adf",
   "metadata": {},
   "outputs": [
    {
     "name": "stdout",
     "output_type": "stream",
     "text": [
      "    Car Year  Sale Price\n",
      "12      2022  2411756970\n",
      "11      2021  2401486049\n",
      "10      2020  2420677424\n",
      "9       2019  2422945771\n",
      "8       2018  2419835114\n",
      "7       2017  2439544778\n",
      "6       2016  2422877745\n",
      "5       2015  2428038847\n",
      "4       2014  2408436490\n",
      "3       2013  2434875649\n",
      "2       2012  2424144771\n",
      "1       2011  2409996542\n",
      "0       2010  2431900289\n"
     ]
    }
   ],
   "source": [
    "yearly_sales = df.groupby(['Car Year'], as_index=False)['Sale Price'].sum().sort_values(by='Car Year', ascending=False)\n",
    "print(yearly_sales)"
   ]
  },
  {
   "cell_type": "code",
   "execution_count": 16,
   "id": "147a8371-008f-4c04-9901-eb770f2c9031",
   "metadata": {},
   "outputs": [
    {
     "data": {
      "image/png": "[encoded data removed]",
      "text/plain": [
       "<Figure size 640x480 with 1 Axes>"
      ]
     },
     "metadata": {},
     "output_type": "display_data"
    }
   ],
   "source": [
    "# Group the data by year and calculate the total sales for each year\n",
    "yearly_sales = df.groupby('Car Year')['Sale Price'].sum()\n",
    "\n",
    "# Calculate the percentage of sales for each year\n",
    "yearly_sales_perc = yearly_sales / yearly_sales.sum() * 100\n",
    "\n",
    "# Create a line chart to visualize the yearly sales percentage\n",
    "plt.plot(yearly_sales_perc.index, yearly_sales_perc.values)\n",
    "plt.xlabel('Year')\n",
    "plt.ylabel('Percentage of Sales')\n",
    "plt.title('Yearly Sales Percentage')\n",
    "plt.show()"
   ]
  },
  {
   "cell_type": "markdown",
   "id": "cc46887b-3a25-4964-ad05-aef27a89e9bc",
   "metadata": {},
   "source": [
    "The year 2017 having the highest sales and the year 2022 having the lowest sales."
   ]
  },
  {
   "cell_type": "markdown",
   "id": "3724cb18-7bac-44f9-990b-98d53eafa048",
   "metadata": {},
   "source": [
    "## Correlation Matrix"
   ]
  },
  {
   "cell_type": "code",
   "execution_count": 9,
   "id": "cc8f19ff-070c-418b-af80-ee1f00c62073",
   "metadata": {},
   "outputs": [
    {
     "data": {
      "image/png": "[encoded data removed]",
      "text/plain": [
       "<Figure size 800x600 with 2 Axes>"
      ]
     },
     "metadata": {},
     "output_type": "display_data"
    }
   ],
   "source": [
    "import seaborn as sns\n",
    "import matplotlib.pyplot as plt\n",
    "\n",
    "plt.figure(figsize=(8,6))\n",
    "sns.heatmap(df[['Car Year', 'Sale Price',\t'Commission Rate',\t'Commission Earned']].corr(), annot=True, cmap='coolwarm')\n",
    "plt.show()"
   ]
  },
  {
   "cell_type": "code",
   "execution_count": 11,
   "id": "ed62f647-bac0-4c08-be0c-eae681e79f69",
   "metadata": {},
   "outputs": [
    {
     "name": "stdout",
     "output_type": "stream",
     "text": [
      "                   Car Year  Sale Price  Commission Rate  Commission Earned\n",
      "Car Year           1.000000   -0.000522         0.000284          -0.000448\n",
      "Sale Price        -0.000522    1.000000         0.000686           0.779479\n",
      "Commission Rate    0.000284    0.000686         1.000000           0.585197\n",
      "Commission Earned -0.000448    0.779479         0.585197           1.000000\n"
     ]
    }
   ],
   "source": [
    "print(df[['Car Year', 'Sale Price',\t'Commission Rate',\t'Commission Earned']].corr())"
   ]
  },
  {
   "cell_type": "markdown",
   "id": "33851326-6e9d-4733-ad31-7b33f8c0a477",
   "metadata": {},
   "source": [
    "* Based on the correlation matrix you provided, there seems to be a positive correlation between the sale price and commission earned variables, with a correlation coefficient of 0.78. This suggests that as the sale price of a car increases, the commission earned by the salesperson also tends to increase.\n",
    "* There is also a moderate positive correlation between commission rate and commission earned, with a correlation coefficient of 0.59. This indicates that higher commission rates are associated with higher commission earnings for the salesperson.\n",
    "* However, there is no correlation between car year and the other variables, as the correlation coefficients are very close to zero."
   ]
  },
  {
   "cell_type": "markdown",
   "id": "50d14031-3f19-4156-8022-ed8194a1ca72",
   "metadata": {},
   "source": [
    "##### Is there a relationship between the car make and the sale price?"
   ]
  },
  {
   "cell_type": "code",
   "execution_count": 56,
   "id": "6d8c4d36-4793-4dac-bc67-249e1e59deac",
   "metadata": {},
   "outputs": [
    {
     "data": {
      "image/png": "[encoded data removed]",
      "text/plain": [
       "<Figure size 640x480 with 1 Axes>"
      ]
     },
     "metadata": {},
     "output_type": "display_data"
    }
   ],
   "source": [
    "import matplotlib.pyplot as plt\n",
    "\n",
    "plt.scatter(df['Car Make'], df['Sale Price'])\n",
    "plt.xlabel('Car Make')\n",
    "plt.ylabel('Sale Price')\n",
    "plt.show()"
   ]
  },
  {
   "cell_type": "markdown",
   "id": "38f91a80-2200-4300-8faf-c21499b24237",
   "metadata": {},
   "source": [
    "##### Do newer cars generally have higher sale prices?"
   ]
  },
  {
   "cell_type": "code",
   "execution_count": 58,
   "id": "b6026f96-0bcf-42aa-aeea-428738839e41",
   "metadata": {},
   "outputs": [
    {
     "name": "stdout",
     "output_type": "stream",
     "text": [
      "-0.0005219899650849645\n"
     ]
    }
   ],
   "source": [
    "corr = df['Car Year'].corr(df['Sale Price'])\n",
    "print(corr)"
   ]
  },
  {
   "cell_type": "markdown",
   "id": "598e98c8-9152-4c23-a188-5ca19b8f4915",
   "metadata": {},
   "source": [
    "The correlation between Car Year and Sale Price is -0.0005219, which indicates a very weak negative correlation. Therefore, it can be concluded that there is no significant relationship between the age of the car and its sale price in this dataset."
   ]
  },
  {
   "cell_type": "markdown",
   "id": "562898a4-0d63-4cc0-b87b-c9b5b2112165",
   "metadata": {},
   "source": [
    "##### Is there a difference in commission earned between different car models?"
   ]
  },
  {
   "cell_type": "code",
   "execution_count": 59,
   "id": "24ca6516-0a20-4be7-8d83-1a44391f6aeb",
   "metadata": {},
   "outputs": [
    {
     "name": "stdout",
     "output_type": "stream",
     "text": [
      "Car Model\n",
      "Altima       2999.612387\n",
      "Civic        2998.502515\n",
      "Corolla      3006.177085\n",
      "F-150        2998.251997\n",
      "Silverado    3001.578450\n",
      "Name: Commission Earned, dtype: float64\n"
     ]
    }
   ],
   "source": [
    "model_commission = df.groupby('Car Model')['Commission Earned'].mean()\n",
    "print(model_commission)"
   ]
  },
  {
   "cell_type": "markdown",
   "id": "99160fd1-9ada-437d-8b36-f4f7fe5d979a",
   "metadata": {},
   "source": [
    "The values in model_commission show that the average commission earned for each car model is relatively similar, with values ranging from 2998.25 to 3006.17. However, these differences are quite small and may not be significant in practice."
   ]
  },
  {
   "cell_type": "markdown",
   "id": "ca0975f2-08b6-4625-ba6e-dca022dab73f",
   "metadata": {},
   "source": [
    "##### Do certain salespersons perform better than others in terms of sales or commission earned?"
   ]
  },
  {
   "cell_type": "code",
   "execution_count": 60,
   "id": "eddf7361-803b-43f6-b62f-5681c80b2514",
   "metadata": {},
   "outputs": [],
   "source": [
    "salesperson_sales = df.groupby('Salesperson')['Sale Price'].sum()\n",
    "salesperson_commission = df.groupby('Salesperson')['Commission Earned'].sum()\n",
    "\n",
    "# Sort by total sales\n",
    "salesperson_sales = salesperson_sales.sort_values(ascending=False)\n",
    "\n",
    "# Sort by commission earned\n",
    "salesperson_commission = salesperson_commission.sort_values(ascending=False)"
   ]
  },
  {
   "cell_type": "code",
   "execution_count": 61,
   "id": "0f68cc70-bdd0-4ac1-8b15-5b40494bc844",
   "metadata": {},
   "outputs": [
    {
     "data": {
      "text/plain": [
       "Salesperson\n",
       "Michael Smith       1571856.41\n",
       "Michael Johnson     1248024.79\n",
       "James Smith         1073272.04\n",
       "David Smith         1012556.25\n",
       "Michael Williams     989580.64\n",
       "                       ...    \n",
       "Juan Francis PhD        510.46\n",
       "Molly Weaver            508.78\n",
       "Felicia Mcneil          506.50\n",
       "James Rogers DDS        503.33\n",
       "Katie Stanley           502.86\n",
       "Name: Commission Earned, Length: 338696, dtype: float64"
      ]
     },
     "execution_count": 61,
     "metadata": {},
     "output_type": "execute_result"
    }
   ],
   "source": [
    "salesperson_commission"
   ]
  },
  {
   "cell_type": "code",
   "execution_count": 62,
   "id": "4ca6d1c4-fa29-45b7-bb46-45350fc0176f",
   "metadata": {},
   "outputs": [
    {
     "name": "stdout",
     "output_type": "stream",
     "text": [
      "Salesperson\n",
      "Michael Smith       1571856.41\n",
      "Michael Johnson     1248024.79\n",
      "James Smith         1073272.04\n",
      "David Smith         1012556.25\n",
      "Michael Williams     989580.64\n",
      "                       ...    \n",
      "Juan Francis PhD        510.46\n",
      "Molly Weaver            508.78\n",
      "Felicia Mcneil          506.50\n",
      "James Rogers DDS        503.33\n",
      "Katie Stanley           502.86\n",
      "Name: Commission Earned, Length: 338696, dtype: float64\n"
     ]
    }
   ],
   "source": [
    "salesperson_total_commission = df.groupby('Salesperson')['Commission Earned'].sum().sort_values(ascending=False)\n",
    "print(salesperson_total_commission)"
   ]
  },
  {
   "cell_type": "markdown",
   "id": "5c202f2e-49a0-4608-8e7e-63df47d31df5",
   "metadata": {},
   "source": [
    "# Conclusion"
   ]
  },
  {
   "cell_type": "markdown",
   "id": "b6e6b9f3-f750-4ab1-8904-387870496a72",
   "metadata": {},
   "source": [
    "After analyzing the car sales data, several insights were obtained. The dataset contained information about car sales, including the car model, car make, salesperson, sale price, commission rate, commission earned, and car year.\n",
    "\n",
    "Some of the key findings from the analysis include:\n",
    "\n",
    "* The top 5 car models sold were the Silverado, Civic, Corolla, F-150, and Altima.\n",
    "* The top 5 car makes sold were Honda, Chevrolet, Toyota, Ford, and Nissan.\n",
    "* The top 5 salespersons in terms of commission earned were Michael Smith, Michael Johnson, David Smith, James Smith, and Robert Smith.\n",
    "* The car model with the highest sales was the Silverado, followed closely by the Civic and Corolla.\n",
    "* The car make with the highest sales was Toyota, followed closely by Honda and Chevrolet.\n",
    "* There was a weak negative correlation between car year and sale price, suggesting that newer cars did not necessarily have higher sale prices.\n",
    "* There was no strong correlation between car make and sale price.\n",
    "* There was a slight difference in commission earned between different car models, with Corolla having the highest commission earned and F-150 having the lowest.\n",
    "* Overall, this analysis provides some useful insights into the car sales data. However, further analysis could be performed to gain a deeper understanding of the data, such as analyzing the relationship between commission rate and commission earned, or examining the performance of individual salespersons over time."
   ]
  }
 ],
 "metadata": {
  "kernelspec": {
   "display_name": "Python 3 (ipykernel)",
   "language": "python",
   "name": "python3"
  },
  "language_info": {
   "codemirror_mode": {
    "name": "ipython",
    "version": 3
   },
   "file_extension": ".py",
   "mimetype": "text/x-python",
   "name": "python",
   "nbconvert_exporter": "python",
   "pygments_lexer": "ipython3",
   "version": "3.12.4"
  }
 },
 "nbformat": 4,
 "nbformat_minor": 5
}
